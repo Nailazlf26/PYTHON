{
 "cells": [
  {
   "cell_type": "markdown",
   "metadata": {
    "id": "AU6pyBpS1Qsf"
   },
   "source": [
    "# Import Library"
   ]
  },
  {
   "cell_type": "markdown",
   "metadata": {},
   "source": [
    "KELOMPOK 13\n",
    "- FATMAH\n",
    "- NAILA ZULFA NABILA\n",
    "- RIZQI DARMAWAN\n",
    "- YOGA ULYA MUBAROK"
   ]
  },
  {
   "cell_type": "code",
   "execution_count": 1,
   "metadata": {},
   "outputs": [
    {
     "name": "stdout",
     "output_type": "stream",
     "text": [
      "Requirement already satisfied: scipy in c:\\users\\naila\\appdata\\local\\programs\\python\\python312\\lib\\site-packages (1.14.1)\n",
      "Requirement already satisfied: numpy<2.3,>=1.23.5 in c:\\users\\naila\\appdata\\local\\programs\\python\\python312\\lib\\site-packages (from scipy) (2.1.3)\n",
      "Note: you may need to restart the kernel to use updated packages.\n"
     ]
    },
    {
     "name": "stderr",
     "output_type": "stream",
     "text": [
      "\n",
      "[notice] A new release of pip is available: 24.2 -> 24.3.1\n",
      "[notice] To update, run: python.exe -m pip install --upgrade pip\n"
     ]
    }
   ],
   "source": [
    "pip install scipy"
   ]
  },
  {
   "cell_type": "code",
   "execution_count": 1,
   "metadata": {
    "executionInfo": {
     "elapsed": 1189,
     "status": "ok",
     "timestamp": 1638678267813,
     "user": {
      "displayName": "Abdullah Ghifari",
      "photoUrl": "https://lh3.googleusercontent.com/a-/AOh14Gi_wxBHhERLa5vUWkqgMzTiwmVI3rz_PbwpPfG8=s64",
      "userId": "10253831078468040701"
     },
     "user_tz": -420
    },
    "id": "ZQpL_A8v1Qsj"
   },
   "outputs": [],
   "source": [
    "import pandas as pd\n",
    "import numpy as np\n",
    "import scipy.stats as st"
   ]
  },
  {
   "cell_type": "markdown",
   "metadata": {
    "id": "SC_o6cmk1Qsk"
   },
   "source": [
    "# Read Dataset"
   ]
  },
  {
   "cell_type": "code",
   "execution_count": 2,
   "metadata": {
    "executionInfo": {
     "elapsed": 5,
     "status": "ok",
     "timestamp": 1638678270424,
     "user": {
      "displayName": "Abdullah Ghifari",
      "photoUrl": "https://lh3.googleusercontent.com/a-/AOh14Gi_wxBHhERLa5vUWkqgMzTiwmVI3rz_PbwpPfG8=s64",
      "userId": "10253831078468040701"
     },
     "user_tz": -420
    },
    "id": "xuxfMOEV1Qsl"
   },
   "outputs": [],
   "source": [
    "df = pd.read_csv('ab_data.csv')"
   ]
  },
  {
   "cell_type": "code",
   "execution_count": 3,
   "metadata": {
    "colab": {
     "base_uri": "https://localhost:8080/"
    },
    "executionInfo": {
     "elapsed": 6,
     "status": "ok",
     "timestamp": 1638678271945,
     "user": {
      "displayName": "Abdullah Ghifari",
      "photoUrl": "https://lh3.googleusercontent.com/a-/AOh14Gi_wxBHhERLa5vUWkqgMzTiwmVI3rz_PbwpPfG8=s64",
      "userId": "10253831078468040701"
     },
     "user_tz": -420
    },
    "id": "OR6iFiuu1Qsl",
    "outputId": "88171e39-c7a1-48a6-b2dc-10224c528985"
   },
   "outputs": [
    {
     "data": {
      "text/plain": [
       "(294478, 5)"
      ]
     },
     "execution_count": 3,
     "metadata": {},
     "output_type": "execute_result"
    }
   ],
   "source": [
    "df.shape"
   ]
  },
  {
   "cell_type": "code",
   "execution_count": 4,
   "metadata": {
    "colab": {
     "base_uri": "https://localhost:8080/",
     "height": 206
    },
    "executionInfo": {
     "elapsed": 296,
     "status": "ok",
     "timestamp": 1638678279951,
     "user": {
      "displayName": "Abdullah Ghifari",
      "photoUrl": "https://lh3.googleusercontent.com/a-/AOh14Gi_wxBHhERLa5vUWkqgMzTiwmVI3rz_PbwpPfG8=s64",
      "userId": "10253831078468040701"
     },
     "user_tz": -420
    },
    "id": "cwzbqj9-1ikK",
    "outputId": "6f12af57-2404-49f7-f2cf-9e4d622aeb37"
   },
   "outputs": [
    {
     "data": {
      "text/html": [
       "<div>\n",
       "<style scoped>\n",
       "    .dataframe tbody tr th:only-of-type {\n",
       "        vertical-align: middle;\n",
       "    }\n",
       "\n",
       "    .dataframe tbody tr th {\n",
       "        vertical-align: top;\n",
       "    }\n",
       "\n",
       "    .dataframe thead th {\n",
       "        text-align: right;\n",
       "    }\n",
       "</style>\n",
       "<table border=\"1\" class=\"dataframe\">\n",
       "  <thead>\n",
       "    <tr style=\"text-align: right;\">\n",
       "      <th></th>\n",
       "      <th>user_id</th>\n",
       "      <th>timestamp</th>\n",
       "      <th>group</th>\n",
       "      <th>landing_page</th>\n",
       "      <th>converted</th>\n",
       "    </tr>\n",
       "  </thead>\n",
       "  <tbody>\n",
       "    <tr>\n",
       "      <th>0</th>\n",
       "      <td>851104</td>\n",
       "      <td>2017-01-21 22:11:48.556739</td>\n",
       "      <td>control</td>\n",
       "      <td>old_page</td>\n",
       "      <td>0</td>\n",
       "    </tr>\n",
       "    <tr>\n",
       "      <th>1</th>\n",
       "      <td>804228</td>\n",
       "      <td>2017-01-12 08:01:45.159739</td>\n",
       "      <td>control</td>\n",
       "      <td>old_page</td>\n",
       "      <td>0</td>\n",
       "    </tr>\n",
       "    <tr>\n",
       "      <th>2</th>\n",
       "      <td>661590</td>\n",
       "      <td>2017-01-11 16:55:06.154213</td>\n",
       "      <td>treatment</td>\n",
       "      <td>new_page</td>\n",
       "      <td>0</td>\n",
       "    </tr>\n",
       "    <tr>\n",
       "      <th>3</th>\n",
       "      <td>853541</td>\n",
       "      <td>2017-01-08 18:28:03.143765</td>\n",
       "      <td>treatment</td>\n",
       "      <td>new_page</td>\n",
       "      <td>0</td>\n",
       "    </tr>\n",
       "    <tr>\n",
       "      <th>4</th>\n",
       "      <td>864975</td>\n",
       "      <td>2017-01-21 01:52:26.210827</td>\n",
       "      <td>control</td>\n",
       "      <td>old_page</td>\n",
       "      <td>1</td>\n",
       "    </tr>\n",
       "  </tbody>\n",
       "</table>\n",
       "</div>"
      ],
      "text/plain": [
       "   user_id                   timestamp      group landing_page  converted\n",
       "0   851104  2017-01-21 22:11:48.556739    control     old_page          0\n",
       "1   804228  2017-01-12 08:01:45.159739    control     old_page          0\n",
       "2   661590  2017-01-11 16:55:06.154213  treatment     new_page          0\n",
       "3   853541  2017-01-08 18:28:03.143765  treatment     new_page          0\n",
       "4   864975  2017-01-21 01:52:26.210827    control     old_page          1"
      ]
     },
     "execution_count": 4,
     "metadata": {},
     "output_type": "execute_result"
    }
   ],
   "source": [
    "df.head()"
   ]
  },
  {
   "cell_type": "code",
   "execution_count": 25,
   "metadata": {
    "id": "FSogpfPu1Qsm",
    "outputId": "205b451f-2c6b-41ec-c5a8-019758858384"
   },
   "outputs": [
    {
     "data": {
      "text/plain": [
       "landing_page\n",
       "old_page    147239\n",
       "new_page    147239\n",
       "Name: count, dtype: int64"
      ]
     },
     "execution_count": 25,
     "metadata": {},
     "output_type": "execute_result"
    }
   ],
   "source": [
    "df['landing_page'].value_counts()\n"
   ]
  },
  {
   "cell_type": "code",
   "execution_count": 21,
   "metadata": {
    "id": "LvuUMLJG1Qsm",
    "outputId": "ff9e8899-4b9c-4660-9e39-a5bdc870e91b"
   },
   "outputs": [
    {
     "data": {
      "text/html": [
       "<div>\n",
       "<style scoped>\n",
       "    .dataframe tbody tr th:only-of-type {\n",
       "        vertical-align: middle;\n",
       "    }\n",
       "\n",
       "    .dataframe tbody tr th {\n",
       "        vertical-align: top;\n",
       "    }\n",
       "\n",
       "    .dataframe thead th {\n",
       "        text-align: right;\n",
       "    }\n",
       "</style>\n",
       "<table border=\"1\" class=\"dataframe\">\n",
       "  <thead>\n",
       "    <tr style=\"text-align: right;\">\n",
       "      <th></th>\n",
       "      <th>user_id</th>\n",
       "      <th>timestamp</th>\n",
       "      <th>group</th>\n",
       "      <th>landing_page</th>\n",
       "      <th>converted</th>\n",
       "    </tr>\n",
       "  </thead>\n",
       "  <tbody>\n",
       "    <tr>\n",
       "      <th>0</th>\n",
       "      <td>851104</td>\n",
       "      <td>2017-01-21 22:11:48.556739</td>\n",
       "      <td>control</td>\n",
       "      <td>old_page</td>\n",
       "      <td>0</td>\n",
       "    </tr>\n",
       "    <tr>\n",
       "      <th>1</th>\n",
       "      <td>804228</td>\n",
       "      <td>2017-01-12 08:01:45.159739</td>\n",
       "      <td>control</td>\n",
       "      <td>old_page</td>\n",
       "      <td>0</td>\n",
       "    </tr>\n",
       "    <tr>\n",
       "      <th>2</th>\n",
       "      <td>661590</td>\n",
       "      <td>2017-01-11 16:55:06.154213</td>\n",
       "      <td>treatment</td>\n",
       "      <td>new_page</td>\n",
       "      <td>0</td>\n",
       "    </tr>\n",
       "    <tr>\n",
       "      <th>3</th>\n",
       "      <td>853541</td>\n",
       "      <td>2017-01-08 18:28:03.143765</td>\n",
       "      <td>treatment</td>\n",
       "      <td>new_page</td>\n",
       "      <td>0</td>\n",
       "    </tr>\n",
       "    <tr>\n",
       "      <th>4</th>\n",
       "      <td>864975</td>\n",
       "      <td>2017-01-21 01:52:26.210827</td>\n",
       "      <td>control</td>\n",
       "      <td>old_page</td>\n",
       "      <td>1</td>\n",
       "    </tr>\n",
       "  </tbody>\n",
       "</table>\n",
       "</div>"
      ],
      "text/plain": [
       "   user_id                   timestamp      group landing_page  converted\n",
       "0   851104  2017-01-21 22:11:48.556739    control     old_page          0\n",
       "1   804228  2017-01-12 08:01:45.159739    control     old_page          0\n",
       "2   661590  2017-01-11 16:55:06.154213  treatment     new_page          0\n",
       "3   853541  2017-01-08 18:28:03.143765  treatment     new_page          0\n",
       "4   864975  2017-01-21 01:52:26.210827    control     old_page          1"
      ]
     },
     "execution_count": 21,
     "metadata": {},
     "output_type": "execute_result"
    }
   ],
   "source": [
    "df.head()"
   ]
  },
  {
   "cell_type": "markdown",
   "metadata": {
    "id": "5rAMBLCG1Qsn"
   },
   "source": [
    "# Langkah 1"
   ]
  },
  {
   "cell_type": "markdown",
   "metadata": {
    "id": "whoyAa4U1Qso"
   },
   "source": [
    "Apakah rata rata converted old_page > converted new_page"
   ]
  },
  {
   "cell_type": "markdown",
   "metadata": {
    "id": "U4G9uwyL1Qso"
   },
   "source": [
    "H0 : rata-rata converted old_page **sama dengan atau kurang dari** converted new_page <br>\n",
    "H1 : rata-rata converted old_page **lebih dari**  converted new_page"
   ]
  },
  {
   "cell_type": "code",
   "execution_count": 22,
   "metadata": {
    "id": "UgcPwkSw1Qsp"
   },
   "outputs": [],
   "source": [
    "#?st.ttest_ind"
   ]
  },
  {
   "cell_type": "code",
   "execution_count": 26,
   "metadata": {
    "executionInfo": {
     "elapsed": 288,
     "status": "ok",
     "timestamp": 1638678398214,
     "user": {
      "displayName": "Abdullah Ghifari",
      "photoUrl": "https://lh3.googleusercontent.com/a-/AOh14Gi_wxBHhERLa5vUWkqgMzTiwmVI3rz_PbwpPfG8=s64",
      "userId": "10253831078468040701"
     },
     "user_tz": -420
    },
    "id": "vclUFePm1Qsp"
   },
   "outputs": [],
   "source": [
    "old_page = df[df['landing_page']=='old_page']\n",
    "new_page = df[df['landing_page']!='old_page']"
   ]
  },
  {
   "cell_type": "code",
   "execution_count": 29,
   "metadata": {
    "colab": {
     "base_uri": "https://localhost:8080/",
     "height": 206
    },
    "executionInfo": {
     "elapsed": 293,
     "status": "ok",
     "timestamp": 1638678401298,
     "user": {
      "displayName": "Abdullah Ghifari",
      "photoUrl": "https://lh3.googleusercontent.com/a-/AOh14Gi_wxBHhERLa5vUWkqgMzTiwmVI3rz_PbwpPfG8=s64",
      "userId": "10253831078468040701"
     },
     "user_tz": -420
    },
    "id": "1CNY59gi1Qsp",
    "outputId": "abe103db-0cd1-4c88-88c7-dc60ce66c3e3"
   },
   "outputs": [
    {
     "data": {
      "text/html": [
       "<div>\n",
       "<style scoped>\n",
       "    .dataframe tbody tr th:only-of-type {\n",
       "        vertical-align: middle;\n",
       "    }\n",
       "\n",
       "    .dataframe tbody tr th {\n",
       "        vertical-align: top;\n",
       "    }\n",
       "\n",
       "    .dataframe thead th {\n",
       "        text-align: right;\n",
       "    }\n",
       "</style>\n",
       "<table border=\"1\" class=\"dataframe\">\n",
       "  <thead>\n",
       "    <tr style=\"text-align: right;\">\n",
       "      <th></th>\n",
       "      <th>user_id</th>\n",
       "      <th>timestamp</th>\n",
       "      <th>group</th>\n",
       "      <th>landing_page</th>\n",
       "      <th>converted</th>\n",
       "    </tr>\n",
       "  </thead>\n",
       "  <tbody>\n",
       "    <tr>\n",
       "      <th>0</th>\n",
       "      <td>851104</td>\n",
       "      <td>2017-01-21 22:11:48.556739</td>\n",
       "      <td>control</td>\n",
       "      <td>old_page</td>\n",
       "      <td>0</td>\n",
       "    </tr>\n",
       "    <tr>\n",
       "      <th>1</th>\n",
       "      <td>804228</td>\n",
       "      <td>2017-01-12 08:01:45.159739</td>\n",
       "      <td>control</td>\n",
       "      <td>old_page</td>\n",
       "      <td>0</td>\n",
       "    </tr>\n",
       "    <tr>\n",
       "      <th>4</th>\n",
       "      <td>864975</td>\n",
       "      <td>2017-01-21 01:52:26.210827</td>\n",
       "      <td>control</td>\n",
       "      <td>old_page</td>\n",
       "      <td>1</td>\n",
       "    </tr>\n",
       "    <tr>\n",
       "      <th>5</th>\n",
       "      <td>936923</td>\n",
       "      <td>2017-01-10 15:20:49.083499</td>\n",
       "      <td>control</td>\n",
       "      <td>old_page</td>\n",
       "      <td>0</td>\n",
       "    </tr>\n",
       "    <tr>\n",
       "      <th>7</th>\n",
       "      <td>719014</td>\n",
       "      <td>2017-01-17 01:48:29.539573</td>\n",
       "      <td>control</td>\n",
       "      <td>old_page</td>\n",
       "      <td>0</td>\n",
       "    </tr>\n",
       "  </tbody>\n",
       "</table>\n",
       "</div>"
      ],
      "text/plain": [
       "   user_id                   timestamp    group landing_page  converted\n",
       "0   851104  2017-01-21 22:11:48.556739  control     old_page          0\n",
       "1   804228  2017-01-12 08:01:45.159739  control     old_page          0\n",
       "4   864975  2017-01-21 01:52:26.210827  control     old_page          1\n",
       "5   936923  2017-01-10 15:20:49.083499  control     old_page          0\n",
       "7   719014  2017-01-17 01:48:29.539573  control     old_page          0"
      ]
     },
     "execution_count": 29,
     "metadata": {},
     "output_type": "execute_result"
    }
   ],
   "source": [
    "old_page.head()"
   ]
  },
  {
   "cell_type": "code",
   "execution_count": 28,
   "metadata": {
    "colab": {
     "base_uri": "https://localhost:8080/",
     "height": 206
    },
    "executionInfo": {
     "elapsed": 303,
     "status": "ok",
     "timestamp": 1638678407520,
     "user": {
      "displayName": "Abdullah Ghifari",
      "photoUrl": "https://lh3.googleusercontent.com/a-/AOh14Gi_wxBHhERLa5vUWkqgMzTiwmVI3rz_PbwpPfG8=s64",
      "userId": "10253831078468040701"
     },
     "user_tz": -420
    },
    "id": "FepenNnH1Qsq",
    "outputId": "e0e938c3-60e8-421b-9d70-789ecdc994a7"
   },
   "outputs": [
    {
     "data": {
      "text/html": [
       "<div>\n",
       "<style scoped>\n",
       "    .dataframe tbody tr th:only-of-type {\n",
       "        vertical-align: middle;\n",
       "    }\n",
       "\n",
       "    .dataframe tbody tr th {\n",
       "        vertical-align: top;\n",
       "    }\n",
       "\n",
       "    .dataframe thead th {\n",
       "        text-align: right;\n",
       "    }\n",
       "</style>\n",
       "<table border=\"1\" class=\"dataframe\">\n",
       "  <thead>\n",
       "    <tr style=\"text-align: right;\">\n",
       "      <th></th>\n",
       "      <th>user_id</th>\n",
       "      <th>timestamp</th>\n",
       "      <th>group</th>\n",
       "      <th>landing_page</th>\n",
       "      <th>converted</th>\n",
       "    </tr>\n",
       "  </thead>\n",
       "  <tbody>\n",
       "    <tr>\n",
       "      <th>2</th>\n",
       "      <td>661590</td>\n",
       "      <td>2017-01-11 16:55:06.154213</td>\n",
       "      <td>treatment</td>\n",
       "      <td>new_page</td>\n",
       "      <td>0</td>\n",
       "    </tr>\n",
       "    <tr>\n",
       "      <th>3</th>\n",
       "      <td>853541</td>\n",
       "      <td>2017-01-08 18:28:03.143765</td>\n",
       "      <td>treatment</td>\n",
       "      <td>new_page</td>\n",
       "      <td>0</td>\n",
       "    </tr>\n",
       "    <tr>\n",
       "      <th>6</th>\n",
       "      <td>679687</td>\n",
       "      <td>2017-01-19 03:26:46.940749</td>\n",
       "      <td>treatment</td>\n",
       "      <td>new_page</td>\n",
       "      <td>1</td>\n",
       "    </tr>\n",
       "    <tr>\n",
       "      <th>8</th>\n",
       "      <td>817355</td>\n",
       "      <td>2017-01-04 17:58:08.979471</td>\n",
       "      <td>treatment</td>\n",
       "      <td>new_page</td>\n",
       "      <td>1</td>\n",
       "    </tr>\n",
       "    <tr>\n",
       "      <th>9</th>\n",
       "      <td>839785</td>\n",
       "      <td>2017-01-15 18:11:06.610965</td>\n",
       "      <td>treatment</td>\n",
       "      <td>new_page</td>\n",
       "      <td>1</td>\n",
       "    </tr>\n",
       "  </tbody>\n",
       "</table>\n",
       "</div>"
      ],
      "text/plain": [
       "   user_id                   timestamp      group landing_page  converted\n",
       "2   661590  2017-01-11 16:55:06.154213  treatment     new_page          0\n",
       "3   853541  2017-01-08 18:28:03.143765  treatment     new_page          0\n",
       "6   679687  2017-01-19 03:26:46.940749  treatment     new_page          1\n",
       "8   817355  2017-01-04 17:58:08.979471  treatment     new_page          1\n",
       "9   839785  2017-01-15 18:11:06.610965  treatment     new_page          1"
      ]
     },
     "execution_count": 28,
     "metadata": {},
     "output_type": "execute_result"
    }
   ],
   "source": [
    "new_page.head()"
   ]
  },
  {
   "cell_type": "markdown",
   "metadata": {
    "id": "OyX_qkMJ1Qsq"
   },
   "source": [
    "# Langkah 2"
   ]
  },
  {
   "cell_type": "code",
   "execution_count": 31,
   "metadata": {
    "colab": {
     "base_uri": "https://localhost:8080/"
    },
    "executionInfo": {
     "elapsed": 321,
     "status": "ok",
     "timestamp": 1638678880311,
     "user": {
      "displayName": "Abdullah Ghifari",
      "photoUrl": "https://lh3.googleusercontent.com/a-/AOh14Gi_wxBHhERLa5vUWkqgMzTiwmVI3rz_PbwpPfG8=s64",
      "userId": "10253831078468040701"
     },
     "user_tz": -420
    },
    "id": "uebLUYmc1Qsq",
    "outputId": "2633e22c-aa54-4dff-a37e-df0304776435"
   },
   "outputs": [
    {
     "data": {
      "text/plain": [
       "np.float64(0.12047759085568362)"
      ]
     },
     "execution_count": 31,
     "metadata": {},
     "output_type": "execute_result"
    }
   ],
   "source": [
    "old_page['converted'].mean()"
   ]
  },
  {
   "cell_type": "code",
   "execution_count": 32,
   "metadata": {
    "colab": {
     "base_uri": "https://localhost:8080/"
    },
    "executionInfo": {
     "elapsed": 18,
     "status": "ok",
     "timestamp": 1638678880312,
     "user": {
      "displayName": "Abdullah Ghifari",
      "photoUrl": "https://lh3.googleusercontent.com/a-/AOh14Gi_wxBHhERLa5vUWkqgMzTiwmVI3rz_PbwpPfG8=s64",
      "userId": "10253831078468040701"
     },
     "user_tz": -420
    },
    "id": "_XKpubXr1Qsr",
    "outputId": "5a289820-a819-4960-bc09-08975878d3a0"
   },
   "outputs": [
    {
     "data": {
      "text/plain": [
       "np.float64(0.11884079625642663)"
      ]
     },
     "execution_count": 32,
     "metadata": {},
     "output_type": "execute_result"
    }
   ],
   "source": [
    "new_page['converted'].mean()"
   ]
  },
  {
   "cell_type": "markdown",
   "metadata": {
    "id": "f8RnuBJx1Qsr"
   },
   "source": [
    "# Langkah 3 & 4"
   ]
  },
  {
   "cell_type": "code",
   "execution_count": 1,
   "metadata": {
    "executionInfo": {
     "elapsed": 15,
     "status": "ok",
     "timestamp": 1638678880313,
     "user": {
      "displayName": "Abdullah Ghifari",
      "photoUrl": "https://lh3.googleusercontent.com/a-/AOh14Gi_wxBHhERLa5vUWkqgMzTiwmVI3rz_PbwpPfG8=s64",
      "userId": "10253831078468040701"
     },
     "user_tz": -420
    },
    "id": "T0-SA_Ed2k3f"
   },
   "outputs": [],
   "source": [
    "#?st.ttest_ind"
   ]
  },
  {
   "cell_type": "code",
   "execution_count": 35,
   "metadata": {
    "colab": {
     "base_uri": "https://localhost:8080/"
    },
    "executionInfo": {
     "elapsed": 151,
     "status": "ok",
     "timestamp": 1638678880450,
     "user": {
      "displayName": "Abdullah Ghifari",
      "photoUrl": "https://lh3.googleusercontent.com/a-/AOh14Gi_wxBHhERLa5vUWkqgMzTiwmVI3rz_PbwpPfG8=s64",
      "userId": "10253831078468040701"
     },
     "user_tz": -420
    },
    "id": "q02oWWrs1Qsr",
    "outputId": "313f39bc-a36d-40c9-e505-1974582e7f53"
   },
   "outputs": [
    {
     "name": "stdout",
     "output_type": "stream",
     "text": [
      "P-Value : 0.17120864585270731\n",
      "Tidak cukup bukti menyatakan bahwa rata-rata converted old_page lebih dari converted new_page\n"
     ]
    }
   ],
   "source": [
    "# langkah 3\n",
    "ttest = st.ttest_ind(a = old_page['converted'], b=new_page['converted'])\n",
    "p_value = ttest.pvalue\n",
    "\n",
    "# langkah 4\n",
    "print('P-Value :',p_value)\n",
    "if p_value >= 0.05:\n",
    "    print('Tidak cukup bukti menyatakan bahwa rata-rata converted old_page lebih dari converted new_page')\n",
    "else:\n",
    "    print('Cukup bukti menyatakan (Tolak H0) bahwa rata-rata converted old_page lebih dari converted new_page')"
   ]
  },
  {
   "cell_type": "markdown",
   "metadata": {
    "id": "YE-9eV3F1Qss"
   },
   "source": [
    "# Case 2 ANOVA"
   ]
  },
  {
   "cell_type": "code",
   "execution_count": 38,
   "metadata": {
    "executionInfo": {
     "elapsed": 148,
     "status": "ok",
     "timestamp": 1638678880450,
     "user": {
      "displayName": "Abdullah Ghifari",
      "photoUrl": "https://lh3.googleusercontent.com/a-/AOh14Gi_wxBHhERLa5vUWkqgMzTiwmVI3rz_PbwpPfG8=s64",
      "userId": "10253831078468040701"
     },
     "user_tz": -420
    },
    "id": "wHbmd7NI1Qss"
   },
   "outputs": [],
   "source": [
    "df2 = pd.read_csv('ab_data.csv')\n",
    "\n",
    "# Langkah 1\n",
    "# H0 : Rata-rata landing page sama\n",
    "# H1 : Rata-rata landing page berbeda\n",
    "\n",
    "# Langkah 2\n",
    "df_old_page = df2[df2['landing_page'] == 'old_page']\n",
    "df_new_page = df2[df2['landing_page'] == 'new_page']"
   ]
  },
  {
   "cell_type": "code",
   "execution_count": 39,
   "metadata": {
    "colab": {
     "base_uri": "https://localhost:8080/"
    },
    "executionInfo": {
     "elapsed": 147,
     "status": "ok",
     "timestamp": 1638678880450,
     "user": {
      "displayName": "Abdullah Ghifari",
      "photoUrl": "https://lh3.googleusercontent.com/a-/AOh14Gi_wxBHhERLa5vUWkqgMzTiwmVI3rz_PbwpPfG8=s64",
      "userId": "10253831078468040701"
     },
     "user_tz": -420
    },
    "id": "mFXHAu0f1Qss",
    "outputId": "ce1d44a6-2a3e-48f6-8ddd-d27f89efb43f"
   },
   "outputs": [
    {
     "data": {
      "text/plain": [
       "landing_page\n",
       "new_page    0.118841\n",
       "old_page    0.120478\n",
       "Name: converted, dtype: float64"
      ]
     },
     "execution_count": 39,
     "metadata": {},
     "output_type": "execute_result"
    }
   ],
   "source": [
    "df2.groupby(['landing_page'])['converted'].mean()"
   ]
  },
  {
   "cell_type": "code",
   "execution_count": 40,
   "metadata": {
    "executionInfo": {
     "elapsed": 146,
     "status": "ok",
     "timestamp": 1638678880451,
     "user": {
      "displayName": "Abdullah Ghifari",
      "photoUrl": "https://lh3.googleusercontent.com/a-/AOh14Gi_wxBHhERLa5vUWkqgMzTiwmVI3rz_PbwpPfG8=s64",
      "userId": "10253831078468040701"
     },
     "user_tz": -420
    },
    "id": "PzYVlw0e1Qss"
   },
   "outputs": [],
   "source": [
    "# Langkah 3\n",
    "anova = st.f_oneway(df_old_page['converted'],df_new_page['converted'])"
   ]
  },
  {
   "cell_type": "code",
   "execution_count": 41,
   "metadata": {
    "colab": {
     "base_uri": "https://localhost:8080/"
    },
    "executionInfo": {
     "elapsed": 273,
     "status": "ok",
     "timestamp": 1638678963739,
     "user": {
      "displayName": "Abdullah Ghifari",
      "photoUrl": "https://lh3.googleusercontent.com/a-/AOh14Gi_wxBHhERLa5vUWkqgMzTiwmVI3rz_PbwpPfG8=s64",
      "userId": "10253831078468040701"
     },
     "user_tz": -420
    },
    "id": "aJGpG4h93ldu",
    "outputId": "006fd7b3-5bf2-42f1-e10f-145b2971ab2a"
   },
   "outputs": [
    {
     "name": "stdout",
     "output_type": "stream",
     "text": [
      "0.17120864586157772\n",
      "Insufficient Reject H0\n"
     ]
    }
   ],
   "source": [
    "pvalue = anova.pvalue\n",
    "print(pvalue)\n",
    "if pvalue >= 0.05:\n",
    "  print('Insufficient Reject H0')\n",
    "else:\n",
    "  print('Sufficient Reject H0')"
   ]
  }
 ],
 "metadata": {
  "colab": {
   "collapsed_sections": [],
   "name": "Statistics III - Hypothesis Testing.ipynb",
   "provenance": []
  },
  "kernelspec": {
   "display_name": "Python 3",
   "language": "python",
   "name": "python3"
  },
  "language_info": {
   "codemirror_mode": {
    "name": "ipython",
    "version": 3
   },
   "file_extension": ".py",
   "mimetype": "text/x-python",
   "name": "python",
   "nbconvert_exporter": "python",
   "pygments_lexer": "ipython3",
   "version": "3.8.10"
  }
 },
 "nbformat": 4,
 "nbformat_minor": 0
}
